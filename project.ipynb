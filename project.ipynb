{
 "cells": [
  {
   "cell_type": "markdown",
   "metadata": {},
   "source": [
    "# UCU - Proyecto Webscraping\n",
    "Proyecto para la Licenciatura en Datos y Negocios de la Universidad Católica del Uruguay"
   ]
  },
  {
   "metadata": {},
   "cell_type": "markdown",
   "source": [
    "# Paso 1\n",
    "Aquí importamos las librerías que vamos a necesitar en el código posteriormente"
   ]
  },
  {
   "metadata": {
    "ExecuteTime": {
     "end_time": "2025-09-24T01:03:51.793310Z",
     "start_time": "2025-09-24T01:03:51.770746Z"
    }
   },
   "cell_type": "code",
   "source": [
    "import requests\n",
    "from bs4 import BeautifulSoup\n",
    "import json\n",
    "import re\n",
    "import time\n",
    "import random\n",
    "from urllib.parse import urljoin  #para armar bien los links"
   ],
   "outputs": [],
   "execution_count": 2
  },
  {
   "metadata": {},
   "cell_type": "markdown",
   "source": [
    "# Paso 2\n",
    "Se define la URL con la que trabajamos y se identifica en este caso de forma permanente los departamentos de forma seleccionada\n"
   ]
  },
  {
   "metadata": {
    "ExecuteTime": {
     "end_time": "2025-09-24T01:03:54.070683Z",
     "start_time": "2025-09-24T01:03:54.062761Z"
    }
   },
   "cell_type": "code",
   "source": [
    "# Diccionario con ciudad y su código en el parámetro x=\n",
    "CITY_CODES = {\"Montevideo\": 1,\n",
    "              \"Canelones\": 3,\n",
    "              \"Maldonado\": 10}\n",
    "\n",
    "BASE_URL = \"https://casasweb.com/resultados.aspx?a=Alquiler_Apartamento&z=0&x={}&m=&n=A&t=a&d=x&b=x&i=0&h=0&c=1\""
   ],
   "outputs": [],
   "execution_count": 3
  },
  {
   "metadata": {
    "ExecuteTime": {
     "end_time": "2025-09-24T01:03:56.134026Z",
     "start_time": "2025-09-24T01:03:56.125852Z"
    }
   },
   "cell_type": "code",
   "source": [
    "# --- Helpers ---\n",
    "def parse_number(text):\n",
    "    \"\"\"Convierte texto como 'USD 195' o '79 m²' en int.\"\"\"\n",
    "    if not text:\n",
    "        return None\n",
    "    m = re.search(r'(\\d[\\d\\.,]*)', text)\n",
    "    if not m:\n",
    "        return None\n",
    "    num = m.group(1).replace(\".\", \"\").replace(\",\", \"\")\n",
    "    try:\n",
    "        return int(num)\n",
    "    except:\n",
    "        return None"
   ],
   "outputs": [],
   "execution_count": 4
  },
  {
   "metadata": {},
   "cell_type": "markdown",
   "source": [
    "# Paso 3\n",
    "Para trabajar de forma más eficiente se hace un único scrapeo y se va asignando según la coincidencia del departamento que sea\n"
   ]
  },
  {
   "metadata": {
    "ExecuteTime": {
     "end_time": "2025-09-24T01:03:58.412715Z",
     "start_time": "2025-09-24T01:03:58.390012Z"
    }
   },
   "cell_type": "code",
   "source": [
    "def scrap_all_and_group(city_names):\n",
    "    url = BASE_URL\n",
    "    grupos = {name: [] for name in city_names}\n",
    "\n",
    "    try:\n",
    "        response = requests.get(url, headers={\"User-Agent\": \"Mozilla/5.0\"}, timeout=20)\n",
    "        response.raise_for_status()\n",
    "        soup = BeautifulSoup(response.text, \"html.parser\")\n",
    "\n",
    "        anuncios = soup.find_all(\"div\", class_=\"card mb-4 border-0\")\n",
    "\n",
    "        for anuncio in anuncios:\n",
    "            try:\n",
    "                # Detectar a qué ciudad pertenece buscando el nombre en el texto\n",
    "                raw_text = anuncio.get_text(\" \", strip=True).lower()\n",
    "                dept = next((name for name in city_names if name.lower() in raw_text), None)\n",
    "                if dept is None:\n",
    "                    continue  # si no coincide, se descarta\n",
    "\n",
    "                # Link\n",
    "                a = anuncio.find(\"a\", href=True)\n",
    "                link = urljoin(\"https://casasweb.com\", a[\"href\"]) if a else None\n",
    "\n",
    "                # Precio\n",
    "                precio = None\n",
    "                h2 = anuncio.find(\"h2\", class_=\"my-0\")\n",
    "                if h2:\n",
    "                    precio = parse_number(h2.get_text(\" \", strip=True))\n",
    "\n",
    "                # Habitaciones\n",
    "                habitaciones = None\n",
    "                item_det = anuncio.find(\"div\", class_=\"card-text small mb-2 text-center item-det\")\n",
    "                if item_det:\n",
    "                    for b in item_det.find_all(\"b\"):\n",
    "                        texto_b = b.get_text(strip=True)\n",
    "                        if \"dorm\" in texto_b.lower():\n",
    "                            habitaciones = parse_number(texto_b)\n",
    "                            break\n",
    "\n",
    "                # Tamaño\n",
    "                tamano = None\n",
    "                i_tag = anuncio.find(\"i\")\n",
    "                if i_tag:\n",
    "                    tamano = parse_number(i_tag.get_text(strip=True))\n",
    "\n",
    "                # Guardar en el grupo correspondiente\n",
    "                grupos[dept].append({\n",
    "                    \"precio\": precio,\n",
    "                    \"tamano\": tamano,\n",
    "                    \"habitaciones\": habitaciones,\n",
    "                    \"link\": link\n",
    "                })\n",
    "                time.sleep(random.uniform(0.15, 0.3))\n",
    "            except Exception as e:\n",
    "                print(f\"⚠️ Error en anuncio: {e}\")\n",
    "                continue\n",
    "    except Exception:\n",
    "        pass\n",
    "\n",
    "    resultado = []\n",
    "    for name in city_names:\n",
    "        props = grupos.get(name, [])\n",
    "        resultado.append({\n",
    "            \"nombre\": name,\n",
    "            \"propiedades\": props,\n",
    "            \"total_propiedades\": len(props)\n",
    "        })\n",
    "    return resultado"
   ],
   "outputs": [],
   "execution_count": 5
  },
  {
   "metadata": {},
   "cell_type": "markdown",
   "source": [
    "# Paso 4\n",
    "Se agrupa todo en el json para una mejor visualización"
   ]
  },
  {
   "metadata": {
    "ExecuteTime": {
     "end_time": "2025-09-24T01:13:00.584467Z",
     "start_time": "2025-09-24T01:13:00.553882Z"
    }
   },
   "cell_type": "code",
   "source": [
    "def main():\n",
    "    city_names = list(CITY_CODES.keys())\n",
    "    resultado = scrap_all_and_group(city_names)\n",
    "\n",
    "    salida = {\"ciudades\": resultado}\n",
    "\n",
    "    with open(\"propiedades.json\", \"w\", encoding=\"utf-8\") as f:\n",
    "        json.dump(salida, f, ensure_ascii=False, indent=2)\n"
   ],
   "outputs": [],
   "execution_count": 7
  }
 ],
 "metadata": {
  "kernelspec": {
   "display_name": "Python 3",
   "language": "python",
   "name": "python3"
  },
  "language_info": {
   "name": "python",
   "version": "3.12.1"
  }
 },
 "nbformat": 4,
 "nbformat_minor": 2
}
